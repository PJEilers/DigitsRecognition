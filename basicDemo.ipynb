{
 "cells": [
  {
   "cell_type": "code",
   "execution_count": 1,
   "metadata": {},
   "outputs": [],
   "source": [
    "import numpy as np\n",
    "import matplotlib.pyplot as plt\n",
    "import scipy.linalg"
   ]
  },
  {
   "cell_type": "code",
   "execution_count": 2,
   "metadata": {},
   "outputs": [],
   "source": [
    "input = np.loadtxt(\"mfeat-pix.txt\", dtype='i')"
   ]
  },
  {
   "cell_type": "code",
   "execution_count": 3,
   "metadata": {},
   "outputs": [
    {
     "name": "stdout",
     "output_type": "stream",
     "text": [
      "Train misclassification rate 0.088\n",
      "Test misclassification rate 0.091\n"
     ]
    }
   ],
   "source": [
    "x = np.array([list(range(0,100)), list(range(200,300)),list(range(400,500)),list(range(600,700)),list(range(800,900)),list(range(1000,1100)),list(range(1200,1300)),list(range(1400,1500)),list(range(1600,1700)),list(range(1800,1900))])\n",
    "pickIndices = np.concatenate(x, axis = None)\n",
    "\n",
    "#split the data into a training and a testing dataset\n",
    "trainPatterns = input[pickIndices,:]\n",
    "testPatterns = input[pickIndices + 100, :];\n",
    "b = np.ones((1,100));\n",
    "trainLabels = scipy.linalg.block_diag(b, b, b, b, b, b, b, b, b, b)\n",
    "testLabels = trainLabels;\n",
    "\n",
    "correctLabels = np.array([b,2*b,3*b,4*b,5*b,6*b,7*b,8*b,9*b,10*b], dtype = int);\n",
    "correctLabels = np.concatenate(correctLabels,axis=1)\n",
    "meanTrainImages = np.zeros((240,10))\n",
    "\n",
    "# mean of the 100 examples per digit\n",
    "# row wise mean\n",
    "for k in range(10):\n",
    "    meanTrainImages[:,k] = trainPatterns[(k*100):(k*100)+100,:].mean(axis = 0);\n",
    "\n",
    "meanTrainImages = meanTrainImages.T\n",
    "featureValuesTrain = np.matmul(meanTrainImages,trainPatterns.T)\n",
    "featureValuesTest = np.matmul(meanTrainImages,testPatterns.T)\n",
    "\n",
    "# Compute Linear regression weights\n",
    "a = np.matmul(featureValuesTrain,featureValuesTrain.T)\n",
    "a1 = np.linalg.inv(a) \n",
    "W1 = np.matmul(a1,featureValuesTrain)\n",
    "W = (np.matmul(W1,trainLabels.T)).T\n",
    "\n",
    "\n",
    "# compute train misclassification rate\n",
    "classificationHypothesesTrain = np.matmul(W,featureValuesTrain)\n",
    "maxValues = np.amax(classificationHypothesesTrain,axis=0) \n",
    "maxValues = np.reshape(maxValues,(1,1000))\n",
    "maxIndicesTrain = np.argmax(classificationHypothesesTrain, axis=0)\n",
    "maxIndicesTrain = maxIndicesTrain.flatten()\n",
    "maxIndicesTrain = np.reshape(maxIndicesTrain,(1,1000)) +1\n",
    "nrOfMisclassificationsTrain = np.sum(np.not_equal(correctLabels,maxIndicesTrain));\n",
    "\n",
    "\n",
    "\n",
    "# compute test misclassification rate\n",
    "classificationHypothesesTest = np.matmul(W,featureValuesTest)\n",
    "maxValues = np.amax(classificationHypothesesTest,axis=0) \n",
    "maxValues = np.reshape(maxValues,(1,1000))\n",
    "maxIndicesTest = np.argmax(classificationHypothesesTest==maxValues, axis=0)\n",
    "maxIndicesTest = np.reshape(maxIndicesTest,(1,1000))+1\n",
    "nrOfMisclassificationsTest = np.sum(np.not_equal(correctLabels,maxIndicesTest))\n",
    "\n",
    "print('Train misclassification rate',nrOfMisclassificationsTrain/1000)\n",
    "print('Test misclassification rate',nrOfMisclassificationsTest/1000)\n",
    "\n"
   ]
  },
  {
   "cell_type": "code",
   "execution_count": null,
   "metadata": {},
   "outputs": [],
   "source": []
  }
 ],
 "metadata": {
  "kernelspec": {
   "display_name": "Python 3",
   "language": "python",
   "name": "python3"
  },
  "language_info": {
   "codemirror_mode": {
    "name": "ipython",
    "version": 3
   },
   "file_extension": ".py",
   "mimetype": "text/x-python",
   "name": "python",
   "nbconvert_exporter": "python",
   "pygments_lexer": "ipython3",
   "version": "3.8.0"
  }
 },
 "nbformat": 4,
 "nbformat_minor": 4
}
