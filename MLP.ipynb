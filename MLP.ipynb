{
 "cells": [
  {
   "cell_type": "code",
   "execution_count": 1,
   "metadata": {},
   "outputs": [],
   "source": [
    "# load libraries\n",
    "from loader import Loader\n",
    "from sklearn import neural_network\n",
    "import numpy as np"
   ]
  },
  {
   "cell_type": "code",
   "execution_count": 2,
   "metadata": {},
   "outputs": [
    {
     "output_type": "stream",
     "name": "stdout",
     "text": [
      "(1000, 75)\n"
     ]
    }
   ],
   "source": [
    "# Load and prepare training set\n",
    "dataset = Loader()\n",
    "dataset.pca()\n",
    "X, y = dataset.getWholeTrainSet(pca=True)\n",
    "print(np.shape(X))"
   ]
  },
  {
   "cell_type": "code",
   "execution_count": 3,
   "metadata": {},
   "outputs": [
    {
     "output_type": "stream",
     "name": "stdout",
     "text": [
      "(1000, 75)\n"
     ]
    }
   ],
   "source": [
    "# Load and prepare test set\n",
    "X_test, y_test = dataset.getWholeTestSet(pca=True)\n",
    "print(np.shape(X_test))"
   ]
  },
  {
   "cell_type": "code",
   "execution_count": 4,
   "metadata": {},
   "outputs": [
    {
     "output_type": "stream",
     "name": "stdout",
     "text": [
      "Number of runs: 10\nPrecision array [96.7 96.3 97.3 97.  97.2 97.  96.6 97.1 96.8 97. ]\nMean test precision: 96.9\nVariance test precision 0.08200000000000034\n"
     ]
    }
   ],
   "source": [
    "runs = 10\n",
    "precision = np.empty(runs)\n",
    "for run in range(runs):\n",
    "    # Apply MLP\n",
    "    model = neural_network.MLPClassifier(hidden_layer_sizes=(250)) \n",
    "    model.fit(X, y)\n",
    "\n",
    "    # Compute precision\n",
    "    precision[run] = model.score(X_test, y_test) * 100\n",
    "\n",
    "mean_precision = np.mean(precision)\n",
    "var_precision = np.var(precision)\n",
    "\n",
    "print(\"Number of runs:\", runs)  \n",
    "print(\"Precision array\", precision)\n",
    "print(\"Mean test precision:\",  mean_precision)\n",
    "print(\"Variance test precision\", var_precision)"
   ]
  },
  {
   "cell_type": "code",
   "execution_count": null,
   "metadata": {},
   "outputs": [],
   "source": []
  }
 ],
 "metadata": {
  "kernelspec": {
   "display_name": "Python 3",
   "language": "python",
   "name": "python3"
  },
  "language_info": {
   "codemirror_mode": {
    "name": "ipython",
    "version": 3
   },
   "file_extension": ".py",
   "mimetype": "text/x-python",
   "name": "python",
   "nbconvert_exporter": "python",
   "pygments_lexer": "ipython3",
   "version": "3.8.3-final"
  }
 },
 "nbformat": 4,
 "nbformat_minor": 4
}