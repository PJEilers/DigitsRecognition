{
 "cells": [
  {
   "cell_type": "code",
   "execution_count": 1,
   "metadata": {},
   "outputs": [],
   "source": [
    "# load libraries\n",
    "from loader import Loader\n",
    "from sklearn import neural_network\n",
    "from sklearn.model_selection import train_test_split\n",
    "from sklearn.model_selection import cross_val_score\n",
    "import numpy as np"
   ]
  },
  {
   "cell_type": "code",
   "execution_count": 2,
   "metadata": {},
   "outputs": [],
   "source": [
    "def evaluate(received, ppredict):\n",
    "    mismatch = 0\n",
    "    for i in range(len(ppredict)):\n",
    "        if received[i] != ppredict[i]:\n",
    "            mismatch += 1\n",
    "\n",
    "    return mismatch/len(received)\n"
   ]
  },
  {
   "cell_type": "code",
   "execution_count": 3,
   "metadata": {},
   "outputs": [
    {
     "output_type": "stream",
     "name": "stdout",
     "text": [
      "1000 1000\n240\n"
     ]
    }
   ],
   "source": [
    "# Load and prepare data set\n",
    "dataset = Loader()\n",
    "# dataset.pca(n_comp=25)\n",
    "X, y = dataset.getWholeTrainSet(pca=False, shuffle=False, flat=True)\n",
    "X = X / 6   # normalize data set\n",
    "\n",
    "print(len(X), len(y))\n",
    "print(len(X[0]))"
   ]
  },
  {
   "cell_type": "code",
   "execution_count": 6,
   "metadata": {
    "tags": []
   },
   "outputs": [
    {
     "output_type": "stream",
     "name": "stdout",
     "text": [
      "1000 1000\n240\n"
     ]
    }
   ],
   "source": [
    "# Optional: add data augmentation\n",
    "X_aug = []\n",
    "y_aug = []\n",
    "for im_class in range(10):\n",
    "    for im_index in range(100):\n",
    "        X_aug.append(dataset.getImage(im_class, im_index, aug=True, set=\"train\", flat=True) / 255)\n",
    "        y_aug.append(im_class)\n",
    "\n",
    "X_aug = np.asarray(X_aug)\n",
    "y_aug = np.asarray(y_aug)\n",
    "# X = np.concatenate((X, X_aug), axis=0)\n",
    "# y = np.concatenate((y, y_aug), axis=0)\n",
    "\n",
    "print(len(X_aug), len(y_aug))\n",
    "print(len(X_aug[0]))\n"
   ]
  },
  {
   "cell_type": "code",
   "execution_count": 7,
   "metadata": {},
   "outputs": [],
   "source": [
    "# shuffle dataset\n",
    "order = np.arange(len(X))\n",
    "np.random.shuffle(order)\n",
    "X = X[order]\n",
    "y = y[order]\n",
    "X_aug = X_aug[order]\n",
    "y_aug = y_aug[order]"
   ]
  },
  {
   "cell_type": "code",
   "execution_count": 32,
   "metadata": {},
   "outputs": [
    {
     "output_type": "stream",
     "name": "stdout",
     "text": [
      "[89.  95.5 95.  95.  95. ] 93.9\n"
     ]
    }
   ],
   "source": [
    "# cross validation\n",
    "k = 5\n",
    "fold_len = int(len(X)/k)\n",
    "final = []\n",
    "\n",
    "for fold in range(k):\n",
    "    # construct training set\n",
    "    if fold == 0:\n",
    "        X_train = X[(fold+1)*fold_len:1000]\n",
    "        y_train = y[(fold+1)*fold_len:1000]\n",
    "    elif fold == k-1:\n",
    "        X_train = X[0:fold*fold_len]\n",
    "        y_train = y[0:fold*fold_len]\n",
    "    else:\n",
    "        X_train = np.concatenate((X[0:fold*fold_len], X[(fold+1)*fold_len:1000]))\n",
    "        y_train = np.concatenate((y[0:fold*fold_len], y[(fold+1)*fold_len:1000]))\n",
    "\n",
    "    # # construct training set with augmented data\n",
    "    # if fold == 0:\n",
    "    #     X_train = np.concatenate((X[(fold+1)*fold_len:1000], X_aug[(fold+1)*fold_len:1000]))\n",
    "    #     y_train = np.concatenate((y[(fold+1)*fold_len:1000], y_aug[(fold+1)*fold_len:1000]))\n",
    "    # elif fold == k-1:\n",
    "    #     X_train = np.concatenate((X[0:fold*fold_len], X_aug[0:fold*fold_len]))\n",
    "    #     y_train = np.concatenate((y[0:fold*fold_len], y_aug[0:fold*fold_len]))\n",
    "    # else:\n",
    "    #     X_train = np.concatenate((X[0:fold*fold_len], X[(fold+1)*fold_len:1000], X_aug[0:fold*fold_len], X_aug[(fold+1)*fold_len:1000]))\n",
    "    #     y_train = np.concatenate((y[0:fold*fold_len], y[(fold+1)*fold_len:1000], y_aug[0:fold*fold_len], y_aug[(fold+1)*fold_len:1000]))\n",
    "\n",
    "    # construct validation set\n",
    "    X_val = X[fold*fold_len:(fold+1)*fold_len]\n",
    "    y_val = y[fold*fold_len:(fold+1)*fold_len]\n",
    "\n",
    "    # train and evaluate model\n",
    "    model = neural_network.MLPClassifier(hidden_layer_sizes=(10)) \n",
    "    model.fit(X_train, y_train)\n",
    "    y_pred = model.predict(X_val)\n",
    "    val_err = evaluate(y_val, y_pred)\n",
    "    final.append(val_err)\n",
    "\n",
    "print((1-np.array(final))*100, 100*(1-np.mean(final)))"
   ]
  },
  {
   "cell_type": "code",
   "execution_count": 24,
   "metadata": {},
   "outputs": [],
   "source": [
    "# # apply model\n",
    "# model = neural_network.MLPClassifier(hidden_layer_sizes=(250)) \n",
    "# scores = cross_val_score(model, X, y, cv=5)\n",
    "# print(scores)\n",
    "# print(np.mean(scores))\n",
    "# print(np.var(scores))"
   ]
  },
  {
   "cell_type": "code",
   "execution_count": 4,
   "metadata": {},
   "outputs": [],
   "source": [
    "# # Optional: add data augmentation\n",
    "# X_aug = np.empty(5, 200)\n",
    "# y_aug = np.empty(5, 200)\n",
    "# X = np.empty(5, 200)\n",
    "# y = np.empty(5, 200)\n",
    "# for im_class in range(10):\n",
    "#     for fold in range(5):\n",
    "#         for im_index in range(20):\n",
    "#             X_aug[fold].append(dataset.getImage(im_class, 20*fold+im_index, aug=True, set=\"train\", flat=True) / 255)\n",
    "#             y_aug[fold].append(im_class)\n",
    "\n",
    "#             X[fold].append(dataset.getImage(im_class, 20*fold+im_index, aug=False, set=\"train\", flat=True) / 6)\n",
    "#             y[fold].append(im_class)\n",
    "\n",
    "#             if im_class == 1:\n",
    "#                 print(20*fold+im_index)\n",
    "\n",
    "# X = np.concatenate((X, X_aug), axis=0)\n",
    "# y = np.concatenate((y, y_aug), axis=0)\n",
    "\n",
    "# print(len(X), len(y))\n",
    "# print(len(X[0]))"
   ]
  },
  {
   "cell_type": "code",
   "execution_count": 6,
   "metadata": {},
   "outputs": [],
   "source": [
    "# How many epochs? ?????????????\n",
    "# What is the training error?\n",
    "\n",
    "# To do: set up own cross-validation, only data augmentation for the training"
   ]
  }
 ],
 "metadata": {
  "kernelspec": {
   "display_name": "Python 3",
   "language": "python",
   "name": "python3"
  },
  "language_info": {
   "codemirror_mode": {
    "name": "ipython",
    "version": 3
   },
   "file_extension": ".py",
   "mimetype": "text/x-python",
   "name": "python",
   "nbconvert_exporter": "python",
   "pygments_lexer": "ipython3",
   "version": "3.8.3-final"
  }
 },
 "nbformat": 4,
 "nbformat_minor": 4
}