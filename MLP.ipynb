{
 "cells": [
  {
   "cell_type": "code",
   "execution_count": 1,
   "metadata": {},
   "outputs": [],
   "source": [
    "# load libraries\n",
    "from loader import Loader\n",
    "from sklearn import neural_network\n",
    "import numpy as np"
   ]
  },
  {
   "cell_type": "code",
   "execution_count": 2,
   "metadata": {},
   "outputs": [],
   "source": [
    "# This function flattens the images\n",
    "def flatten_image (X, length):\n",
    "    X_flatten = np.empty([length,16*15])\n",
    "    for i in range (length):\n",
    "        X_flatten[i] = X[i].flatten()\n",
    "    return X_flatten"
   ]
  },
  {
   "cell_type": "code",
   "execution_count": 3,
   "metadata": {},
   "outputs": [
    {
     "output_type": "stream",
     "name": "stdout",
     "text": [
      "(1000, 75)\n"
     ]
    }
   ],
   "source": [
    "# Load and prepare training set\n",
    "dataset = Loader()\n",
    "dataset.pca()\n",
    "X_flatten, y = dataset.getWholeTrainSet(pca=True)\n",
    "# X_flatten = flatten_image(np.array(X), len(y))\n",
    "print (np.shape(X_flatten))"
   ]
  },
  {
   "cell_type": "code",
   "execution_count": 4,
   "metadata": {},
   "outputs": [
    {
     "output_type": "execute_result",
     "data": {
      "text/plain": [
       "MLPClassifier()"
      ]
     },
     "metadata": {},
     "execution_count": 4
    }
   ],
   "source": [
    "# Apply MLP\n",
    "model = neural_network.MLPClassifier()\n",
    "model.fit(X_flatten, y)"
   ]
  },
  {
   "cell_type": "code",
   "execution_count": 5,
   "metadata": {},
   "outputs": [
    {
     "output_type": "stream",
     "name": "stdout",
     "text": [
      "(1000, 75)\n"
     ]
    }
   ],
   "source": [
    "# Load and prepare test set\n",
    "X_test_flatten, y_test = dataset.getWholeTestSet(pca=True)\n",
    "# X_test_flatten = flatten_image(X_test, len(y_test))\n",
    "print (np.shape(X_test_flatten))"
   ]
  },
  {
   "cell_type": "code",
   "execution_count": 6,
   "metadata": {},
   "outputs": [
    {
     "output_type": "stream",
     "name": "stdout",
     "text": [
      "Test error: 0.034\n"
     ]
    }
   ],
   "source": [
    "# Compute test error\n",
    "mismatch = 0\n",
    "y_predict = model.predict(X_test_flatten)\n",
    "for i in range(len(y_test)):\n",
    "    if y_test[i] != y_predict[i]:\n",
    "        mismatch+=1\n",
    "   \n",
    "print (\"Test error:\",  mismatch/len(y_test))\n"
   ]
  },
  {
   "cell_type": "code",
   "execution_count": null,
   "metadata": {},
   "outputs": [],
   "source": []
  }
 ],
 "metadata": {
  "kernelspec": {
   "display_name": "Python 3",
   "language": "python",
   "name": "python3"
  },
  "language_info": {
   "codemirror_mode": {
    "name": "ipython",
    "version": 3
   },
   "file_extension": ".py",
   "mimetype": "text/x-python",
   "name": "python",
   "nbconvert_exporter": "python",
   "pygments_lexer": "ipython3",
   "version": "3.8.3-final"
  }
 },
 "nbformat": 4,
 "nbformat_minor": 4
}