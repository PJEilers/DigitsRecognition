{
 "cells": [
  {
   "cell_type": "code",
   "execution_count": 115,
   "metadata": {},
   "outputs": [],
   "source": [
    "# baseline cnn model for digit\n",
    "import numpy as np\n",
    "import scipy.linalg\n",
    "\n"
   ]
  },
  {
   "cell_type": "code",
   "execution_count": 116,
   "metadata": {},
   "outputs": [],
   "source": [
    "#loading the dataset\n",
    "input = np.loadtxt(\"mfeat-pix.txt\", dtype='i')\n"
   ]
  },
  {
   "cell_type": "code",
   "execution_count": 117,
   "metadata": {},
   "outputs": [],
   "source": [
    "#Converting the dataset into a 2D matrix\n",
    "input_2D = np.reshape(input,(2000,16,15))"
   ]
  },
  {
   "cell_type": "code",
   "execution_count": 118,
   "metadata": {},
   "outputs": [],
   "source": [
    "# Dividing the data into train and test data\n",
    "testX = np.zeros((400,16,15))\n",
    "trainX = np.zeros((1600,16,15))\n",
    "testY = np.zeros((400,1), dtype = 'uint')\n",
    "trainY = np.zeros((1600,1), dtype = 'uint')\n",
    "\n",
    "for i in range(10):\n",
    "    # Taking last 40 examples per example for test and 16 for train\n",
    "    testX[(i*40):((i+1)*40)] = input_2D[(200*i)+159:(200*i+199)]\n",
    "    trainX[(i*160):((i+1)*160-1)] = input_2D[(200*i):(200*i)+159]\n",
    "    testY[(i*40):((i+1)*40)] = i\n",
    "    trainY[(i*160):((i+1)*160-1)] = i"
   ]
  },
  {
   "cell_type": "code",
   "execution_count": 114,
   "metadata": {},
   "outputs": [],
   "source": [
    "\n",
    "#pyplot.imshow(i)"
   ]
  },
  {
   "cell_type": "code",
   "execution_count": null,
   "metadata": {},
   "outputs": [],
   "source": []
  },
  {
   "cell_type": "code",
   "execution_count": null,
   "metadata": {},
   "outputs": [],
   "source": []
  }
 ],
 "metadata": {
  "kernelspec": {
   "display_name": "Python 3",
   "language": "python",
   "name": "python3"
  },
  "language_info": {
   "codemirror_mode": {
    "name": "ipython",
    "version": 3
   },
   "file_extension": ".py",
   "mimetype": "text/x-python",
   "name": "python",
   "nbconvert_exporter": "python",
   "pygments_lexer": "ipython3",
   "version": "3.8.0"
  }
 },
 "nbformat": 4,
 "nbformat_minor": 4
}
