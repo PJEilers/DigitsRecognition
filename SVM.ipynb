{
 "cells": [
  {
   "cell_type": "code",
   "execution_count": 2,
   "metadata": {},
   "outputs": [],
   "source": [
    "from loader import Loader\n",
    "from sklearn import svm\n",
    "from sklearn.model_selection import cross_val_score\n",
    "import matplotlib.pyplot as plt \n",
    "import numpy as np\n",
    "\n",
    "def flatten_image (X, length):\n",
    "    X_flatten = np.empty([length,16*15])\n",
    "    for i in range (length):\n",
    "        X_flatten[i] = X[i].flatten()\n",
    "    return X_flatten\n",
    "\n",
    "def add_noise (X, intensity):\n",
    "    examples, imsize = np.shape(X)\n",
    "    for i in range (examples):\n",
    "        noise = np.random.normal(0,1, imsize)\n",
    "        X[i] += intensity*noise\n",
    "    return X\n",
    "\n",
    "def cross_val_with_noise (X,y,k,intensity,clf):\n",
    "    scores = np.zeros(k)\n",
    "    fold_len = int(len(X)/k)\n",
    "    X_test = X[0:fold_len, :]\n",
    "    y_test = y[0:fold_len]\n",
    "    X_train = X[fold_len:, :]\n",
    "    y_train = y[fold_len:]\n",
    "    \n",
    "    X_train = add_noise(X_train, intensity)\n",
    "    \n",
    "    for i in range(k):\n",
    "        clf.fit(X_train,y_train)\n",
    "        y_predict = clf.predict(X_test)\n",
    "        mismatch = 0\n",
    "        for j in range(len(y_test)):\n",
    "            if y_test[j] != y_predict[j]:\n",
    "                mismatch+=1\n",
    "        scores[i] = (1-mismatch/len(y_test))*100\n",
    "        X_test = X[i*fold_len:(i+1)*fold_len, :]\n",
    "        \n",
    "        y_test = y[i*fold_len:(i+1)*fold_len]\n",
    "        X_train = np.append(X[0:i*fold_len, :], X[(i+1)*fold_len:, :], axis = 0)\n",
    "        y_train = np.append(y[0:i*fold_len], y[(i+1)*fold_len:], axis = 0)\n",
    "        \n",
    "        X_train = add_noise(X_train, intensity)\n",
    "        \n",
    "    return scores;"
   ]
  },
  {
   "cell_type": "code",
   "execution_count": 3,
   "metadata": {},
   "outputs": [],
   "source": [
    "dataset = Loader()\n",
    "del dataset\n",
    "dataset = Loader()"
   ]
  },
  {
   "cell_type": "code",
   "execution_count": null,
   "metadata": {},
   "outputs": [],
   "source": []
  },
  {
   "cell_type": "code",
   "execution_count": 27,
   "metadata": {},
   "outputs": [
    {
     "name": "stdout",
     "output_type": "stream",
     "text": [
      "Test accuracy: 97.83540000000022 %\n"
     ]
    }
   ],
   "source": [
    "noise_opt = 0.1\n",
    "c_opt = 4.0\n",
    "dataset.pca(n_comp=75)\n",
    "\n",
    "accuracy = 0\n",
    "for n in range(500):\n",
    "    \n",
    "    X, y = dataset.getNoisySet(intensity = noise_opt, pca=True, set=\"train\")\n",
    "    clf = svm.SVC(C=c_opt)\n",
    "    clf.fit(X,y)\n",
    "    X_test, y_test = dataset.getWholeTestSet(pca=True)\n",
    "    y_predict = clf.predict(X_test)\n",
    "    mismatch = 0\n",
    "    for i in range(len(y_test)):\n",
    "        if y_test[i] != y_predict[i]:\n",
    "            mismatch+=1\n",
    "    accuracy += (1-mismatch/len(y_test))/5\n",
    "print (\"Test accuracy:\", accuracy , \"%\")"
   ]
  },
  {
   "cell_type": "code",
   "execution_count": null,
   "metadata": {},
   "outputs": [],
   "source": [
    "dataset.pca(n_comp=75)\n",
    "acc_matrix = np.zeros([9,7])\n",
    "num = 100\n",
    "for N in range(num):\n",
    "    i = 0\n",
    "    for C in [1.0, 1.5, 2.0, 2.5, 3.0, 4.0, 5.0, 7.5, 10.0]:\n",
    "    \n",
    "        j = 0\n",
    "        for noise_int in [0.0,0.1,0.2,0.3,0.4,0.5,0.6]:\n",
    "            X, y = dataset.getWholeTrainSet(pca=True, shuffle=True)\n",
    "            clf = svm.SVC(C=C)\n",
    "            scores = cross_val_with_noise(X,y,10,noise_int,clf)\n",
    "            #print(scores)\n",
    "            acc_matrix[i,j] += np.mean(scores)/num\n",
    "            j+=1\n",
    "        i+=1\n",
    "    \n",
    "print(acc_matrix)"
   ]
  },
  {
   "cell_type": "code",
   "execution_count": null,
   "metadata": {},
   "outputs": [],
   "source": [
    "accs = np.zeros(len(crange))\n",
    "i = 0\n",
    "dataset.pca(n_comp=75)\n",
    "X, y = dataset.getWholeTrainSet(shuffle=True, pca=True)\n",
    "X_test, y_test = dataset.getWholeTestSet(shuffle=True, pca=True)\n",
    "for C in crange:\n",
    "    clf = svm.SVC(C=C)\n",
    "    clf.fit(X,y)\n",
    "    y_predict = clf.predict(X_test)\n",
    "    mismatch = 0\n",
    "    for j in range(len(y_test)):\n",
    "        if y_test[j] != y_predict[j]:\n",
    "            mismatch+=1\n",
    "    accuracy = (1-mismatch/len(y_test))\n",
    "    accs[i] = accuracy*100\n",
    "    i+=1\n",
    "print(accs)"
   ]
  },
  {
   "cell_type": "code",
   "execution_count": 30,
   "metadata": {},
   "outputs": [],
   "source": []
  },
  {
   "cell_type": "code",
   "execution_count": 31,
   "metadata": {},
   "outputs": [
    {
     "name": "stdout",
     "output_type": "stream",
     "text": [
      "[97.7 97.7 97.8 97.9 97.8 97.6 97.9 97.9 97.9 97.9 97.6]\n"
     ]
    }
   ],
   "source": [
    "print(SVM_noise())\n"
   ]
  },
  {
   "cell_type": "code",
   "execution_count": null,
   "metadata": {},
   "outputs": [],
   "source": []
  }
 ],
 "metadata": {
  "kernelspec": {
   "display_name": "Python 3",
   "language": "python",
   "name": "python3"
  },
  "language_info": {
   "codemirror_mode": {
    "name": "ipython",
    "version": 3
   },
   "file_extension": ".py",
   "mimetype": "text/x-python",
   "name": "python",
   "nbconvert_exporter": "python",
   "pygments_lexer": "ipython3",
   "version": "3.8.6"
  }
 },
 "nbformat": 4,
 "nbformat_minor": 4
}
