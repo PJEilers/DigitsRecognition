{
 "cells": [
  {
   "cell_type": "code",
   "execution_count": 1,
   "metadata": {},
   "outputs": [],
   "source": [
    "from loader import Loader\n",
    "from sklearn import svm\n",
    "from sklearn.model_selection import cross_val_score\n",
    "import matplotlib.pyplot as plt \n",
    "import numpy as np\n",
    "import random\n",
    "\n",
    "def flatten_image (X, length):\n",
    "    X_flatten = np.empty([length,16*15])\n",
    "    for i in range (length):\n",
    "        X_flatten[i] = X[i].flatten()\n",
    "    return X_flatten\n",
    "\n",
    "def add_noise (X, intensity):\n",
    "    examples, imsize = np.shape(X)\n",
    "    for i in range (examples):\n",
    "        noise = np.random.normal(0,1, imsize)\n",
    "        X[i] += intensity*noise\n",
    "    return X\n",
    "\n",
    "def cross_val_with_noise (X,y,k,intensity,clf):\n",
    "    scores = np.zeros(k)\n",
    "    fold_len = int(len(X)/k)\n",
    "    X_test = X[0:fold_len, :]\n",
    "    y_test = y[0:fold_len]\n",
    "    X_train = X[fold_len:, :]\n",
    "    y_train = y[fold_len:]\n",
    "    \n",
    "    X_train = add_noise(X_train, intensity)\n",
    "    \n",
    "    for i in range(k):\n",
    "        clf.fit(X_train,y_train)\n",
    "        y_predict = clf.predict(X_test)\n",
    "        mismatch = 0\n",
    "        for j in range(len(y_test)):\n",
    "            if y_test[j] != y_predict[j]:\n",
    "                mismatch+=1\n",
    "        scores[i] = (1-mismatch/len(y_test))*100\n",
    "        X_test = X[i*fold_len:(i+1)*fold_len, :]\n",
    "        \n",
    "        y_test = y[i*fold_len:(i+1)*fold_len]\n",
    "        X_train = np.append(X[0:i*fold_len, :], X[(i+1)*fold_len:, :], axis = 0)\n",
    "        y_train = np.append(y[0:i*fold_len], y[(i+1)*fold_len:], axis = 0)\n",
    "        \n",
    "        X_train = add_noise(X_train, intensity)\n",
    "        \n",
    "    return scores;\n",
    "\n",
    "from PIL import Image, ImageOps\n",
    "def cross_val_with_augment (X,y,k,clf): #Cross-validation where the validation set does not have augmented data\n",
    "    fold_len = int(len(X)/k)\n",
    "    scores = np.zeros(k)\n",
    "    X_val = X[0:fold_len :]\n",
    "    y_val = y[0:fold_len]\n",
    "    X_train = X[fold_len:, :]\n",
    "    y_train = y[fold_len:]\n",
    "\n",
    "    for fold in range(k):\n",
    "        \n",
    "        for i in range(900):\n",
    "            im = X_train[i]\n",
    "            im = im/6.0 \n",
    "            im = Image.fromarray(np.uint8(im*255), mode=\"L\")\n",
    "            im = ImageOps.pad(im, (31, 30), 3)\n",
    "            angle = random.randint(-25, 25)\n",
    "            im = im.rotate(angle)\n",
    "            im = ImageOps.fit(im, (15, 16))\n",
    "            im = np.array(im)\n",
    "            im = im / 255.0*6.0\n",
    "            X_train = np.concatenate((X_train,[im]),axis=0)\n",
    "            y_train = np.concatenate((y_train,[y_train[i]]),axis=0)\n",
    "        \n",
    "        X_train = flatten_image(X_train, 1800)\n",
    "        X_val = flatten_image(X_val, 100)      \n",
    "        clf.fit(X_train,y_train)\n",
    "        y_predict = clf.predict(X_val)\n",
    "        mismatch = 0\n",
    "        for j in range(len(y_val)):\n",
    "            if y_val[j] != y_predict[j]:\n",
    "                mismatch+=1\n",
    "        scores[fold] = (1-mismatch/len(y_val))*100\n",
    "        \n",
    "        X_val = X[fold*fold_len:int(fold+1)*fold_len]     \n",
    "        y_val = y[fold*fold_len:int(fold+1)*fold_len]\n",
    "        X_train = np.append(X[0:fold*fold_len, :], X[(fold+1)*fold_len:, :], axis = 0)        \n",
    "        y_train = np.append(y[0:fold*fold_len], y[(fold+1)*fold_len:], axis = 0)\n",
    "        \n",
    "    return scores"
   ]
  },
  {
   "cell_type": "code",
   "execution_count": 3,
   "metadata": {},
   "outputs": [],
   "source": [
    "dataset = Loader()\n",
    "dataset.pca(n_comp=75)"
   ]
  },
  {
   "cell_type": "code",
   "execution_count": 6,
   "metadata": {},
   "outputs": [
    {
     "name": "stdout",
     "output_type": "stream",
     "text": [
      "PCA 25\n",
      "CV 0 : 95.0\n",
      "CV 1 : 96.0\n",
      "CV 2 : 97.0\n",
      "CV 3 : 95.5\n",
      "CV 4 : 96.5\n",
      "mean: 96.0 , var: 5.000000000000009e-05\n",
      "PCA 50\n",
      "CV 0 : 95.0\n",
      "CV 1 : 97.5\n",
      "CV 2 : 98.0\n",
      "CV 3 : 96.0\n",
      "CV 4 : 95.5\n",
      "mean: 96.39999999999999 , var: 0.00013400000000000022\n",
      "PCA 75\n",
      "CV 0 : 97.0\n",
      "CV 1 : 97.0\n",
      "CV 2 : 98.5\n",
      "CV 3 : 96.5\n",
      "CV 4 : 96.5\n",
      "mean: 97.09999999999998 , var: 5.40000000000001e-05\n",
      "PCA 100\n",
      "CV 0 : 97.0\n",
      "CV 1 : 97.0\n",
      "CV 2 : 98.5\n",
      "CV 3 : 95.5\n",
      "CV 4 : 96.5\n",
      "mean: 96.89999999999999 , var: 9.400000000000017e-05\n",
      "PCA 150\n",
      "CV 0 : 96.5\n",
      "CV 1 : 97.5\n",
      "CV 2 : 98.5\n",
      "CV 3 : 95.5\n",
      "CV 4 : 96.5\n",
      "mean: 96.89999999999999 , var: 0.00010400000000000018\n",
      "PCA 240\n",
      "CV 0 : 96.0\n",
      "CV 1 : 97.5\n",
      "CV 2 : 98.0\n",
      "CV 3 : 95.5\n",
      "CV 4 : 96.5\n",
      "mean: 96.7 , var: 8.600000000000015e-05\n"
     ]
    }
   ],
   "source": [
    "accuracy = 0\n",
    "sc = []\n",
    "mean_sc = []\n",
    "var_sc = []\n",
    "n_comps = [25,50,75,100,150,240]\n",
    "for n_comp in n_comps:\n",
    "    \n",
    "    dataset.pca(n_comp=n_comp)\n",
    "    X, y = dataset.getWholeTrainSet(pca=True)\n",
    "    clf = svm.SVC(kernel='linear')\n",
    "    scores = cross_val_score(clf,X,y,cv=5)\n",
    "    sc.append(scores)\n",
    "    mean_sc.append(scores.mean())\n",
    "    var_sc.append(scores.var())\n",
    "for i in range(6):\n",
    "    print(\"PCA\", n_comps[i])\n",
    "    for k in range(5):\n",
    "        print(\"CV\", k, \":\", sc[i][k]*100)\n",
    "    print(\"mean:\", mean_sc[i]*100, \", var:\", var_sc[i]*100)\n"
   ]
  },
  {
   "cell_type": "code",
   "execution_count": 7,
   "metadata": {},
   "outputs": [
    {
     "name": "stdout",
     "output_type": "stream",
     "text": [
      "Test accuracy: 97.73500000000011 %\n"
     ]
    }
   ],
   "source": [
    "noise_opt = 0.1\n",
    "c_opt = 5.0\n",
    "dataset.pca(n_comp=75)\n",
    "\n",
    "accuracy = 0\n",
    "for n in range(500):\n",
    "    \n",
    "    X, y = dataset.getNoisySet(intensity = noise_opt, pca=True, set=\"train\")\n",
    "    clf = svm.SVC(C=c_opt)\n",
    "    clf.fit(X,y)\n",
    "    X_test, y_test = dataset.getWholeTestSet(pca=True)\n",
    "    y_predict = clf.predict(X_test)\n",
    "    mismatch = 0\n",
    "    for i in range(len(y_test)):\n",
    "        if y_test[i] != y_predict[i]:\n",
    "            mismatch+=1\n",
    "    accuracy += (1-mismatch/len(y_test))/5\n",
    "print (\"Test accuracy:\", accuracy , \"%\")"
   ]
  },
  {
   "cell_type": "code",
   "execution_count": 4,
   "metadata": {},
   "outputs": [
    {
     "name": "stdout",
     "output_type": "stream",
     "text": [
      "10\n",
      "30\n",
      "[[97.46 97.66 97.7  97.74 97.44 97.28 97.34]\n",
      " [97.52 97.62 98.04 97.66 97.72 97.42 97.32]\n",
      " [97.76 97.46 97.74 97.76 97.7  97.44 97.5 ]\n",
      " [97.82 98.04 97.72 97.7  97.7  97.84 97.32]\n",
      " [97.88 97.66 97.98 97.88 97.72 97.56 97.3 ]\n",
      " [97.78 97.74 97.82 97.72 97.78 97.66 97.38]\n",
      " [97.94 98.02 97.6  97.88 97.58 97.62 97.4 ]\n",
      " [97.88 97.86 97.68 97.82 97.8  97.68 97.42]\n",
      " [ 0.    0.    0.    0.    0.    0.    0.  ]]\n"
     ]
    }
   ],
   "source": [
    "#dataset.augment()\n",
    "dataset.pca(n_comp=50)\n",
    "acc_matrix = np.zeros([8,6])\n",
    "num = 100\n",
    "for N in range(num):\n",
    "    i = 0\n",
    "    for C in [1.0, 1.5, 2.0, 3.0, 4.0, 5.0, 7.5, 10.0]:\n",
    "    \n",
    "        j = 0\n",
    "        for noise_int in [0.0,0.1,0.2,0.3,0.4,0.5]:\n",
    "            X, y = dataset.getWholeTrainSet(pca=True, shuffle=True)\n",
    "            clf = svm.SVC(C=C)\n",
    "            scores = cross_val_with_noise(X,y,10,noise_int,clf)\n",
    "            acc_matrix[i,j] += np.mean(scores)/num\n",
    "            j+=1\n",
    "        i+=1\n",
    "    \n",
    "print(acc_matrix)"
   ]
  },
  {
   "cell_type": "code",
   "execution_count": 38,
   "metadata": {},
   "outputs": [
    {
     "name": "stdout",
     "output_type": "stream",
     "text": [
      "[95.1 95.2 95.2 95.6 95.6 95.7 95.7 95.7 95.9 96.  96.1 96.2 96.2 96.3\n",
      " 96.5 96.6 96.6 96.5 96.5 96.5 96.5 96.5 96.5 96.6 96.7 96.7 96.8 96.9\n",
      " 96.9 96.9 97.  96.9 96.9 96.9 96.9 96.9 96.9 96.9 96.9 96.9 97.1 97.1\n",
      " 97.1 97.1 97.1 97.1 97.1 97.1 97.1 97.1 97.1 97.2 97.2 97.2 97.2 97.2\n",
      " 97.2 97.2 97.2 97.1 97.1 97.1 97.1 97.1 97.2 97.2 97.2 97.2 97.2 97.2\n",
      " 97.2 97.2 97.2 97.3 97.4 97.4 97.4 97.4 97.4 97.4 97.4 97.4 97.4 97.4\n",
      " 97.4 97.4 97.4 97.4 97.4 97.4]\n"
     ]
    }
   ],
   "source": [
    "crange = np.arange(0.1,1,0.01)\n",
    "accs = np.zeros(len(crange))\n",
    "i = 0\n",
    "dataset.pca(n_comp=75)\n",
    "X, y = dataset.getWholeTrainSet(shuffle=True, pca=True)\n",
    "X_test, y_test = dataset.getWholeTestSet(shuffle=True, pca=True)\n",
    "for C in crange:\n",
    "    clf = svm.SVC(C=C)\n",
    "    clf.fit(X,y)\n",
    "    y_predict = clf.predict(X_test)\n",
    "    mismatch = 0\n",
    "    for j in range(len(y_test)):\n",
    "        if y_test[j] != y_predict[j]:\n",
    "            mismatch+=1\n",
    "    accuracy = (1-mismatch/len(y_test))\n",
    "    accs[i] = accuracy*100\n",
    "    i+=1\n",
    "print(accs)"
   ]
  },
  {
   "cell_type": "code",
   "execution_count": 4,
   "metadata": {},
   "outputs": [],
   "source": [
    "\n"
   ]
  },
  {
   "cell_type": "code",
   "execution_count": 6,
   "metadata": {},
   "outputs": [
    {
     "name": "stdout",
     "output_type": "stream",
     "text": [
      "(1000, 16, 15) (1000,)\n",
      "[95.5  98.21 98.34 98.4  98.34 98.4 98.34  98.3 ]\n"
     ]
    }
   ],
   "source": [
    "X, y = dataset.getWholeTrainSet(shuffle=True)\n",
    "print(np.shape(X), np.shape(y))\n",
    "c_opt = 1.0\n",
    "noise_opt = 0.0\n",
    "i = 0\n",
    "Cs = [0.1, 1.0, 2.0, 3.0, 4.0, 5.0, 6.0, 7.0]\n",
    "accuracies = np.zeros(8)\n",
    "num = 10\n",
    "for c in Cs:\n",
    "    for N in range(num):\n",
    "        clf = svm.SVC(C=c)\n",
    "        scores = cross_val_with_augment(X,y,10,clf)\n",
    "        #scores = cross_val_score(clf,X_aug,y_aug,cv=10)\n",
    "        accuracies[i] += scores.mean()/num\n",
    "    i+=1\n",
    "print(accuracies)"
   ]
  },
  {
   "cell_type": "code",
   "execution_count": 25,
   "metadata": {},
   "outputs": [
    {
     "data": {
      "text/plain": [
       "[<matplotlib.lines.Line2D at 0x7fefa5718760>]"
      ]
     },
     "execution_count": 25,
     "metadata": {},
     "output_type": "execute_result"
    },
    {
     "data": {
      "image/png": "[encoded data removed]",
      "text/plain": [
       "<Figure size 432x288 with 1 Axes>"
      ]
     },
     "metadata": {
      "needs_background": "light"
     },
     "output_type": "display_data"
    }
   ],
   "source": [
    "import matplotlib.pyplot as plt \n",
    "\n",
    "plt.plot(Cs, accuracies)"
   ]
  },
  {
   "cell_type": "code",
   "execution_count": 7,
   "metadata": {},
   "outputs": [
    {
     "name": "stdout",
     "output_type": "stream",
     "text": [
      "(2000, 240) (2000,)\n",
      "Test accuracy: 98.19999999999995 %\n"
     ]
    }
   ],
   "source": [
    "accuracy = 0\n",
    "dataset.augment_self(100)\n",
    "X, y = dataset.getWholeTrainSet(flat=True)\n",
    "print(np.shape(X), np.shape(y))\n",
    "for n in range(100):\n",
    "    \n",
    "    \n",
    "    clf = svm.SVC(C=5.0)\n",
    "    clf.fit(X,y)\n",
    "    X_test, y_test = dataset.getWholeTestSet(flat=True)\n",
    "    y_predict = clf.predict(X_test)\n",
    "    mismatch = 0\n",
    "    for i in range(len(y_test)):\n",
    "        if y_test[i] != y_predict[i]:\n",
    "            mismatch+=1\n",
    "    accuracy += (1-mismatch/len(y_test))\n",
    "print (\"Test accuracy:\", accuracy , \"%\")"
   ]
  },
  {
   "cell_type": "code",
   "execution_count": null,
   "metadata": {},
   "outputs": [],
   "source": []
  }
 ],
 "metadata": {
  "kernelspec": {
   "display_name": "Python 3",
   "language": "python",
   "name": "python3"
  },
  "language_info": {
   "codemirror_mode": {
    "name": "ipython",
    "version": 3
   },
   "file_extension": ".py",
   "mimetype": "text/x-python",
   "name": "python",
   "nbconvert_exporter": "python",
   "pygments_lexer": "ipython3",
   "version": "3.8.6"
  }
 },
 "nbformat": 4,
 "nbformat_minor": 4
}
