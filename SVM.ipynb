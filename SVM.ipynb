{
 "cells": [
  {
   "cell_type": "code",
   "execution_count": 1,
   "metadata": {},
   "outputs": [],
   "source": [
    "from loader import Loader\n",
    "from sklearn import svm\n",
    "import numpy as np\n",
    "\n",
    "def flatten_image (X, length):\n",
    "    X_flatten = np.empty([length,16*15])\n",
    "    for i in range (length):\n",
    "        X_flatten[i] = X[i].flatten()\n",
    "    return X_flatten\n",
    "\n",
    "dataset = Loader()\n",
    "dataset.pca(n_comp=75)"
   ]
  },
  {
   "cell_type": "code",
   "execution_count": 2,
   "metadata": {},
   "outputs": [
    {
     "name": "stdout",
     "output_type": "stream",
     "text": [
      "(1000, 16, 15)\n"
     ]
    }
   ],
   "source": [
    "X, y = dataset.getWholeTrainSet(pca=False, shuffle=True)\n",
    "print(np.shape(X))\n",
    "X = flatten_image(np.array(X), len(y))"
   ]
  },
  {
   "cell_type": "code",
   "execution_count": 3,
   "metadata": {},
   "outputs": [
    {
     "data": {
      "text/plain": [
       "SVC(kernel='poly')"
      ]
     },
     "execution_count": 3,
     "metadata": {},
     "output_type": "execute_result"
    }
   ],
   "source": [
    "clf = svm.SVC(kernel = 'poly', degree = 3)\n",
    "clf.fit(X,y)"
   ]
  },
  {
   "cell_type": "code",
   "execution_count": 4,
   "metadata": {},
   "outputs": [],
   "source": [
    "X_test, y_test = dataset.getWholeTestSet(pca=False,shuffle=True)\n",
    "X_test = flatten_image(X_test, len(y_test))"
   ]
  },
  {
   "cell_type": "code",
   "execution_count": 5,
   "metadata": {},
   "outputs": [
    {
     "name": "stdout",
     "output_type": "stream",
     "text": [
      "Test accuracy: 97.8 %\n"
     ]
    }
   ],
   "source": [
    "mismatch = 0\n",
    "y_predict = clf.predict(X_test)\n",
    "for i in range(len(y_test)):\n",
    "    if y_test[i] != y_predict[i]:\n",
    "        mismatch+=1\n",
    "\n",
    "        \n",
    "print (\"Test accuracy:\",  (1-mismatch/len(y_test))*100, \"%\")\n",
    "\n"
   ]
  },
  {
   "cell_type": "code",
   "execution_count": 6,
   "metadata": {},
   "outputs": [
    {
     "name": "stdout",
     "output_type": "stream",
     "text": [
      "Test accuracy: 97.8 %\n"
     ]
    }
   ],
   "source": [
    "X_test, y_test = dataset.getNoisySet(intensity = 0.5, flat = False)\n",
    "\n",
    "X_test = flatten_image(X_test, len(y_test))\n",
    "y_predict = clf.predict(X_test)\n",
    "mismatch = 0\n",
    "for i in range(len(y_test)):\n",
    "    if y_test[i] != y_predict[i]:\n",
    "        mismatch+=1\n",
    "\n",
    "print (\"Test accuracy:\",  (1-mismatch/len(y_test))*100, \"%\")"
   ]
  },
  {
   "cell_type": "code",
   "execution_count": 7,
   "metadata": {},
   "outputs": [],
   "source": [
    "X, y = dataset.getWholeTrainSet(pca=True, shuffle=True)"
   ]
  },
  {
   "cell_type": "code",
   "execution_count": 8,
   "metadata": {},
   "outputs": [
    {
     "data": {
      "text/plain": [
       "SVC(kernel='linear')"
      ]
     },
     "execution_count": 8,
     "metadata": {},
     "output_type": "execute_result"
    }
   ],
   "source": [
    "clf = svm.SVC()\n",
    "clf.fit(X,y)"
   ]
  },
  {
   "cell_type": "code",
   "execution_count": 9,
   "metadata": {},
   "outputs": [],
   "source": [
    "X_test, y_test = dataset.getWholeTestSet(pca=True,shuffle=True)"
   ]
  },
  {
   "cell_type": "code",
   "execution_count": 10,
   "metadata": {},
   "outputs": [
    {
     "name": "stdout",
     "output_type": "stream",
     "text": [
      "Test accuracy: 96.0 %\n"
     ]
    }
   ],
   "source": [
    "mismatch = 0\n",
    "y_predict = clf.predict(X_test)\n",
    "\n",
    "for i in range(len(y_test)):\n",
    "    if y_test[i] != y_predict[i]:\n",
    "        mismatch+=1\n",
    "print (\"Test accuracy:\",  (1-mismatch/len(y_test))*100, \"%\")\n",
    "\n"
   ]
  },
  {
   "cell_type": "code",
   "execution_count": 11,
   "metadata": {},
   "outputs": [
    {
     "name": "stdout",
     "output_type": "stream",
     "text": [
      "Test accuracy: 96.2 %\n"
     ]
    }
   ],
   "source": [
    "X_test, y_test = dataset.getNoisySet(intensity = 0.4, flat = False, pca=True, shuffle=True)\n",
    "y_predict = clf.predict(X_test)\n",
    "mismatch = 0\n",
    "for i in range(len(y_test)):\n",
    "    if y_test[i] != y_predict[i]:\n",
    "        mismatch+=1\n",
    "\n",
    "\n",
    "print (\"Test accuracy:\",  (1-mismatch/len(y_test))*100, \"%\")"
   ]
  },
  {
   "cell_type": "code",
   "execution_count": 12,
   "metadata": {},
   "outputs": [
    {
     "data": {
      "text/plain": [
       "SVC()"
      ]
     },
     "execution_count": 12,
     "metadata": {},
     "output_type": "execute_result"
    }
   ],
   "source": [
    "X, y = dataset.getNoisySet(intensity=0.4,pca=True,shuffle=True,set=\"train\")\n",
    "clf = svm.SVC()\n",
    "clf.fit(X,y)"
   ]
  },
  {
   "cell_type": "code",
   "execution_count": 13,
   "metadata": {},
   "outputs": [
    {
     "name": "stdout",
     "output_type": "stream",
     "text": [
      "Test accuracy: 97.3 %\n"
     ]
    }
   ],
   "source": [
    "X_test, y_test = dataset.getWholeTestSet(shuffle=True,pca=True)\n",
    "y_predict = clf.predict(X_test)\n",
    "mismatch = 0\n",
    "for i in range(len(y_test)):\n",
    "    if y_test[i] != y_predict[i]:\n",
    "        mismatch+=1\n",
    "\n",
    "\n",
    "print (\"Test accuracy:\",  (1-mismatch/len(y_test))*100, \"%\")"
   ]
  },
  {
   "cell_type": "code",
   "execution_count": 14,
   "metadata": {},
   "outputs": [
    {
     "name": "stdout",
     "output_type": "stream",
     "text": [
      "Test accuracy: 97.2 %\n"
     ]
    }
   ],
   "source": [
    "X_test, y_test = dataset.getNoisySet(intensity=0.4,shuffle=True,pca=True)\n",
    "y_predict = clf.predict(X_test)\n",
    "mismatch = 0\n",
    "for i in range(len(y_test)):\n",
    "    if y_test[i] != y_predict[i]:\n",
    "        mismatch+=1\n",
    "\n",
    "\n",
    "print (\"Test accuracy:\",  (1-mismatch/len(y_test))*100, \"%\")"
   ]
  },
  {
   "cell_type": "code",
   "execution_count": 15,
   "metadata": {},
   "outputs": [],
   "source": [
    "dataset.addAugmentedData()"
   ]
  },
  {
   "cell_type": "code",
   "execution_count": 16,
   "metadata": {},
   "outputs": [],
   "source": [
    "X,y = dataset.getWholeTrainSet(shuffle=True)\n",
    "X = flatten_image(X, len(y))"
   ]
  },
  {
   "cell_type": "code",
   "execution_count": 17,
   "metadata": {},
   "outputs": [
    {
     "data": {
      "text/plain": [
       "SVC(kernel='poly')"
      ]
     },
     "execution_count": 17,
     "metadata": {},
     "output_type": "execute_result"
    }
   ],
   "source": [
    "clf = svm.SVC(kernel='poly')\n",
    "clf.fit(X,y)"
   ]
  },
  {
   "cell_type": "code",
   "execution_count": 18,
   "metadata": {},
   "outputs": [
    {
     "name": "stdout",
     "output_type": "stream",
     "text": [
      "Test accuracy: 97.39999999999999 %\n"
     ]
    }
   ],
   "source": [
    "X_test, y_test = dataset.getWholeTestSet(shuffle=True)\n",
    "X_test = flatten_image(X_test, len(y))\n",
    "y_predict = clf.predict(X_test)\n",
    "mismatch = 0\n",
    "for i in range(len(y_test)):\n",
    "    if y_test[i] != y_predict[i]:\n",
    "        mismatch+=1\n",
    "\n",
    "\n",
    "print (\"Test accuracy:\",  (1-mismatch/len(y_test))*100, \"%\")"
   ]
  },
  {
   "cell_type": "code",
   "execution_count": null,
   "metadata": {},
   "outputs": [],
   "source": []
  }
 ],
 "metadata": {
  "kernelspec": {
   "display_name": "Python 3",
   "language": "python",
   "name": "python3"
  },
  "language_info": {
   "codemirror_mode": {
    "name": "ipython",
    "version": 3
   },
   "file_extension": ".py",
   "mimetype": "text/x-python",
   "name": "python",
   "nbconvert_exporter": "python",
   "pygments_lexer": "ipython3",
   "version": "3.8.6"
  }
 },
 "nbformat": 4,
 "nbformat_minor": 4
}
