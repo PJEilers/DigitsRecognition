{
 "cells": [
  {
   "cell_type": "code",
   "execution_count": 1,
   "metadata": {},
   "outputs": [],
   "source": [
    "from loader import Loader\n",
    "from sklearn import svm\n",
    "import numpy as np\n",
    "\n",
    "def flatten_image (X, length):\n",
    "    X_flatten = np.empty([length,16*15])\n",
    "    for i in range (length):\n",
    "        X_flatten[i] = X[i].flatten()\n",
    "    return X_flatten\n",
    "\n",
    "dataset = Loader()"
   ]
  },
  {
   "cell_type": "code",
   "execution_count": 2,
   "metadata": {},
   "outputs": [
    {
     "name": "stdout",
     "output_type": "stream",
     "text": [
      "(1000, 240)\n"
     ]
    }
   ],
   "source": [
    "X, y = dataset.getWholeTrainSet()\n",
    "X_flatten = flatten_image(np.array(X), len(y))\n",
    "print (np.shape(X_flatten))"
   ]
  },
  {
   "cell_type": "code",
   "execution_count": 3,
   "metadata": {},
   "outputs": [
    {
     "data": {
      "text/plain": [
       "SVC()"
      ]
     },
     "execution_count": 3,
     "metadata": {},
     "output_type": "execute_result"
    }
   ],
   "source": [
    "clf = svm.SVC()\n",
    "clf.fit(X_flatten,y)"
   ]
  },
  {
   "cell_type": "code",
   "execution_count": 4,
   "metadata": {},
   "outputs": [],
   "source": [
    "X_test, y_test = dataset.getWholeTestSet()\n",
    "X_test_flatten = flatten_image(X_test, len(y_test))"
   ]
  },
  {
   "cell_type": "code",
   "execution_count": 5,
   "metadata": {},
   "outputs": [
    {
     "name": "stdout",
     "output_type": "stream",
     "text": [
      "0.026\n"
     ]
    }
   ],
   "source": [
    "mismatch = 0\n",
    "y_predict = clf.predict(X_test_flatten)\n",
    "for i in range(len(y_test)):\n",
    "    if y_test[i] != y_predict[i]:\n",
    "        mismatch+=1\n",
    "\n",
    "        \n",
    "print (\"Test error:\",  mismatch/len(y_test))\n"
   ]
  },
  {
   "cell_type": "code",
   "execution_count": null,
   "metadata": {},
   "outputs": [],
   "source": []
  }
 ],
 "metadata": {
  "kernelspec": {
   "display_name": "Python 3",
   "language": "python",
   "name": "python3"
  },
  "language_info": {
   "codemirror_mode": {
    "name": "ipython",
    "version": 3
   },
   "file_extension": ".py",
   "mimetype": "text/x-python",
   "name": "python",
   "nbconvert_exporter": "python",
   "pygments_lexer": "ipython3",
   "version": "3.8.6"
  }
 },
 "nbformat": 4,
 "nbformat_minor": 4
}
